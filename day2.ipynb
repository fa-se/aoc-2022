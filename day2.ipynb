{
 "cells": [
  {
   "cell_type": "markdown",
   "source": [
    "## Mapping\n",
    "\n",
    "`A` and `X` = Rock\n",
    "`B` and `Y` = Paper\n",
    "`C` and `Z` = Scissors\n",
    "\n",
    "---\n",
    "\n",
    "## Scoring\n",
    "\n",
    "| Result | Score    | Played       | Score    |\n",
    "|--------|----------|--------------|----------|\n",
    "| Loss   | 0 Points | Rock (X)     | 1 Point  |\n",
    "| Draw   | 3 Points | Paper (Y)    | 2 Points |\n",
    "| Win    | 6 Points | Scissors (Z) | 3 Points |"
   ],
   "metadata": {
    "collapsed": false
   }
  },
  {
   "cell_type": "code",
   "execution_count": 5,
   "metadata": {
    "collapsed": true
   },
   "outputs": [
    {
     "data": {
      "text/plain": "10595"
     },
     "execution_count": 5,
     "metadata": {},
     "output_type": "execute_result"
    }
   ],
   "source": [
    "lut1 = {\n",
    "    'A X' : 4,\n",
    "    'A Y' : 8,\n",
    "    'A Z' : 3,\n",
    "    'B X' : 1,\n",
    "    'B Y' : 5,\n",
    "    'B Z' : 9,\n",
    "    'C X' : 7,\n",
    "    'C Y' : 2,\n",
    "    'C Z' : 6\n",
    "}\n",
    "scores1 = []\n",
    "with open('inputs/day2.txt') as file:\n",
    "    for line in file:\n",
    "        scores1.append(lut1[line.rstrip()])\n",
    "\n",
    "sum(scores1)"
   ]
  },
  {
   "cell_type": "markdown",
   "source": [
    "## Mapping\n",
    "\n",
    "| Symbol | Meaning                 |\n",
    "|--------|-------------------------|\n",
    "| `A`    | Opponent plays Rock     |\n",
    "| `B`    | Opponent plays Paper    |\n",
    "| `C`    | Opponent plays Scissors |\n",
    "| `X`    | Player needs to lose    |\n",
    "| `Y`    | Player needs to draw    |\n",
    "| `Z`    | Player needs to win     |\n",
    "\n",
    "---\n",
    "\n",
    "## Scoring\n",
    "\n",
    "| Result | Score    | Played       | Score    |\n",
    "|--------|----------|--------------|----------|\n",
    "| Loss   | 0 Points | Rock (X)     | 1 Point  |\n",
    "| Draw   | 3 Points | Paper (Y)    | 2 Points |\n",
    "| Win    | 6 Points | Scissors (Z) | 3 Points |"
   ],
   "metadata": {
    "collapsed": false
   }
  },
  {
   "cell_type": "code",
   "execution_count": 7,
   "outputs": [
    {
     "data": {
      "text/plain": "9541"
     },
     "execution_count": 7,
     "metadata": {},
     "output_type": "execute_result"
    }
   ],
   "source": [
    "lut2 = {\n",
    "    'A X' : 0 + 3,\n",
    "    'A Y' : 3 + 1,\n",
    "    'A Z' : 6 + 2,\n",
    "    'B X' : 0 + 1,\n",
    "    'B Y' : 3 + 2,\n",
    "    'B Z' : 6 + 3,\n",
    "    'C X' : 0 + 2,\n",
    "    'C Y' : 3 + 3,\n",
    "    'C Z' : 6 + 1\n",
    "}\n",
    "\n",
    "scores2 = []\n",
    "with open('inputs/day2.txt') as file:\n",
    "    for line in file:\n",
    "        scores2.append(lut2[line.rstrip()])\n",
    "\n",
    "sum(scores2)"
   ],
   "metadata": {
    "collapsed": false
   }
  }
 ],
 "metadata": {
  "kernelspec": {
   "display_name": "Python 3",
   "language": "python",
   "name": "python3"
  },
  "language_info": {
   "codemirror_mode": {
    "name": "ipython",
    "version": 2
   },
   "file_extension": ".py",
   "mimetype": "text/x-python",
   "name": "python",
   "nbconvert_exporter": "python",
   "pygments_lexer": "ipython2",
   "version": "2.7.6"
  }
 },
 "nbformat": 4,
 "nbformat_minor": 0
}

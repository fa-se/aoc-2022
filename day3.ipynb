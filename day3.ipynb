{
 "cells": [
  {
   "cell_type": "code",
   "execution_count": 16,
   "metadata": {
    "collapsed": true
   },
   "outputs": [],
   "source": [
    "def char_to_priority(c : str):\n",
    "    return ord(c) - (96 if c.islower() else 38) # Unicode: a-z -> 97-122 | A-Z -> 65-90"
   ]
  },
  {
   "cell_type": "code",
   "execution_count": 32,
   "outputs": [
    {
     "data": {
      "text/plain": "7990"
     },
     "execution_count": 32,
     "metadata": {},
     "output_type": "execute_result"
    }
   ],
   "source": [
    "sum_of_priorities = 0\n",
    "\n",
    "with open('inputs/day3.txt') as file:\n",
    "    for line in file:\n",
    "        line = line.strip()\n",
    "        compartment1, compartment2 = set(line[:len(line)//2]), set(line[len(line)//2:])\n",
    "        duplicate = (compartment1 & compartment2).pop()\n",
    "        sum_of_priorities += char_to_priority(duplicate)\n",
    "\n",
    "sum_of_priorities"
   ],
   "metadata": {
    "collapsed": false
   }
  },
  {
   "cell_type": "code",
   "execution_count": 41,
   "outputs": [
    {
     "data": {
      "text/plain": "2602"
     },
     "execution_count": 41,
     "metadata": {},
     "output_type": "execute_result"
    }
   ],
   "source": [
    "sum_of_priorities = 0\n",
    "cur_group_rucksacks = []\n",
    "with open('inputs/day3.txt') as rucksacks:\n",
    "    for line in rucksacks:\n",
    "        rucksack = line.strip()\n",
    "        cur_group_rucksacks += [rucksack]\n",
    "        if len(cur_group_rucksacks) == 3:\n",
    "            badge = (set(cur_group_rucksacks[0]) & set(cur_group_rucksacks[1]) & set(cur_group_rucksacks[2])).pop()\n",
    "            sum_of_priorities += char_to_priority(badge)\n",
    "            cur_group_rucksacks = []\n",
    "\n",
    "sum_of_priorities"
   ],
   "metadata": {
    "collapsed": false
   }
  }
 ],
 "metadata": {
  "kernelspec": {
   "display_name": "Python 3",
   "language": "python",
   "name": "python3"
  },
  "language_info": {
   "codemirror_mode": {
    "name": "ipython",
    "version": 2
   },
   "file_extension": ".py",
   "mimetype": "text/x-python",
   "name": "python",
   "nbconvert_exporter": "python",
   "pygments_lexer": "ipython2",
   "version": "2.7.6"
  }
 },
 "nbformat": 4,
 "nbformat_minor": 0
}

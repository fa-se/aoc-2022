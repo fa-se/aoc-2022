{
 "cells": [
  {
   "cell_type": "code",
   "execution_count": 1,
   "metadata": {
    "collapsed": true
   },
   "outputs": [],
   "source": [
    "import re"
   ]
  },
  {
   "cell_type": "code",
   "execution_count": 50,
   "outputs": [],
   "source": [
    "def parse_container_line(line: str):\n",
    "    num_stacks = (len(line) + 1) / 4\n",
    "    return [*line[1::4]]\n",
    "\n",
    "def build_stacks(container_lines):\n",
    "    stacks = []\n",
    "    num_stacks = len(container_lines[0])\n",
    "    for stack in range(num_stacks):\n",
    "        stacks.append([])\n",
    "        for row in range(len(container_lines)-1, -1, -1): # move upwards from the bottom\n",
    "            container = container_lines[row][stack]\n",
    "            if not container == ' ':\n",
    "                stacks[stack].append(container_lines[row][stack])\n",
    "    return stacks\n",
    "\n",
    "def execute_step_part1(count, src, dest):\n",
    "    for i in range(count):\n",
    "        if len(stacks[src]) >= 1:\n",
    "            stacks[dest].append(stacks[src].pop())\n",
    "\n",
    "def execute_step_part2(count, src, dest):\n",
    "    tmp = []\n",
    "    for i in range(count):\n",
    "        if len(stacks[src]) >= 1:\n",
    "            tmp.append(stacks[src].pop())\n",
    "    tmp.reverse()\n",
    "    stacks[dest].extend(tmp)"
   ],
   "metadata": {
    "collapsed": false
   }
  },
  {
   "cell_type": "code",
   "execution_count": 51,
   "outputs": [],
   "source": [
    "container_lines = []\n",
    "stacks = []\n",
    "with open('inputs/day5.txt') as file:\n",
    "    for line in file:\n",
    "        if '[' in line:\n",
    "            container_lines.append(parse_container_line(line))\n",
    "        elif line.startswith(' 1'):\n",
    "            stacks = build_stacks(container_lines)\n",
    "        elif line.startswith('move'):\n",
    "            count, src, dest = re.findall('\\d+', line)\n",
    "            #execute_step_part1(int(count), int(src) - 1, int(dest) - 1)\n",
    "            execute_step_part2(int(count), int(src) - 1, int(dest) - 1)"
   ],
   "metadata": {
    "collapsed": false
   }
  },
  {
   "cell_type": "code",
   "execution_count": 52,
   "outputs": [
    {
     "data": {
      "text/plain": "'PRTTGRFPB'"
     },
     "execution_count": 52,
     "metadata": {},
     "output_type": "execute_result"
    }
   ],
   "source": [
    "topmost_containers = []\n",
    "for stack in range(len(stacks)):\n",
    "    topmost_containers.append(stacks[stack][-1])\n",
    "''.join(topmost_containers)"
   ],
   "metadata": {
    "collapsed": false
   }
  }
 ],
 "metadata": {
  "kernelspec": {
   "display_name": "Python 3",
   "language": "python",
   "name": "python3"
  },
  "language_info": {
   "codemirror_mode": {
    "name": "ipython",
    "version": 2
   },
   "file_extension": ".py",
   "mimetype": "text/x-python",
   "name": "python",
   "nbconvert_exporter": "python",
   "pygments_lexer": "ipython2",
   "version": "2.7.6"
  }
 },
 "nbformat": 4,
 "nbformat_minor": 0
}

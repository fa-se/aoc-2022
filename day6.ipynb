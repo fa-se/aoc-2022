{
 "cells": [
  {
   "cell_type": "code",
   "execution_count": 6,
   "outputs": [],
   "source": [
    "from collections import deque"
   ],
   "metadata": {
    "collapsed": false
   }
  },
  {
   "cell_type": "code",
   "execution_count": 15,
   "metadata": {
    "collapsed": true
   },
   "outputs": [
    {
     "name": "stdout",
     "output_type": "stream",
     "text": [
      "found 14 unique characters (deque(['h', 't', 'c', 'f', 'v', 'n', 'm', 'z', 'j', 's', 'w', 'l', 'd', 'r'])) after 3051 characters\n"
     ]
    }
   ],
   "source": [
    "with open('inputs/day6.txt', 'r') as file:\n",
    "    data = file.read().rstrip()\n",
    "\n",
    "num_unique_characters = 14 # 4 for part 1\n",
    "\n",
    "pos = 0\n",
    "queue = deque([])\n",
    "for c in data:\n",
    "    queue.append(c)\n",
    "    pos += 1\n",
    "    if len(queue) > num_unique_characters:\n",
    "        queue.popleft()\n",
    "\n",
    "    if len(set(queue)) == num_unique_characters:\n",
    "        print(f'found {num_unique_characters} unique characters ({queue}) after {pos} characters')\n",
    "        break"
   ]
  }
 ],
 "metadata": {
  "kernelspec": {
   "display_name": "Python 3",
   "language": "python",
   "name": "python3"
  },
  "language_info": {
   "codemirror_mode": {
    "name": "ipython",
    "version": 2
   },
   "file_extension": ".py",
   "mimetype": "text/x-python",
   "name": "python",
   "nbconvert_exporter": "python",
   "pygments_lexer": "ipython2",
   "version": "2.7.6"
  }
 },
 "nbformat": 4,
 "nbformat_minor": 0
}

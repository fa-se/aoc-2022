{
 "cells": [
  {
   "cell_type": "code",
   "execution_count": 19,
   "outputs": [],
   "source": [
    "import re"
   ],
   "metadata": {
    "collapsed": false
   }
  },
  {
   "cell_type": "code",
   "execution_count": 20,
   "outputs": [],
   "source": [
    "def contains(range1: (int, int), range2: (int, int)) -> bool:\n",
    "    return range2[0] >= range1[0] and range2[1] <= range1[1]\n",
    "\n",
    "def overlaps(range1: (int, int), range2: (int, int)) -> bool:\n",
    "    return max(range1[0], range2[0]) <= min(range1[1], range2[1])"
   ],
   "metadata": {
    "collapsed": false
   }
  },
  {
   "cell_type": "code",
   "execution_count": 21,
   "metadata": {
    "collapsed": true
   },
   "outputs": [
    {
     "name": "stdout",
     "output_type": "stream",
     "text": [
      "fully contained: 602 | overlaps: 891\n"
     ]
    }
   ],
   "source": [
    "count_fully_contained = 0\n",
    "count_overlaps = 0\n",
    "with open('inputs/day4.txt') as file:\n",
    "    for line in file:\n",
    "        line = line.strip()\n",
    "        section_ids = re.split('[-,]', line)\n",
    "        section_ids = [int(x) for x in section_ids]\n",
    "        range1, range2 = (section_ids[0], section_ids[1]), (section_ids[2], section_ids[3])\n",
    "        if contains(range1, range2) or contains(range2, range1):\n",
    "            count_fully_contained += 1\n",
    "        if overlaps(range1, range2):\n",
    "            count_overlaps += 1\n",
    "\n",
    "print(f'fully contained: {count_fully_contained} | overlaps: {count_overlaps}')"
   ]
  }
 ],
 "metadata": {
  "kernelspec": {
   "display_name": "Python 3",
   "language": "python",
   "name": "python3"
  },
  "language_info": {
   "codemirror_mode": {
    "name": "ipython",
    "version": 2
   },
   "file_extension": ".py",
   "mimetype": "text/x-python",
   "name": "python",
   "nbconvert_exporter": "python",
   "pygments_lexer": "ipython2",
   "version": "2.7.6"
  }
 },
 "nbformat": 4,
 "nbformat_minor": 0
}
